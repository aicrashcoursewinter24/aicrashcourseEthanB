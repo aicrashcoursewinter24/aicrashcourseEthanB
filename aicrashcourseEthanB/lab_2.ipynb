{
  "cells": [
    {
      "cell_type": "markdown",
      "metadata": {
        "id": "view-in-github",
        "colab_type": "text"
      },
      "source": [
        "<a href=\"https://colab.research.google.com/github/aicrashcoursewinter24/aicrashcourseEthanB/blob/Lab3/aicrashcourseEthanB/lab_2.ipynb\" target=\"_parent\"><img src=\"https://colab.research.google.com/assets/colab-badge.svg\" alt=\"Open In Colab\"/></a>"
      ]
    },
    {
      "cell_type": "markdown",
      "source": [
        "Today, we'll play with turning text into numeric vectors (the process of \"vectorization\"), which first requires splitting up the a long string into something closer to a list of words (or characters).\n",
        "\n",
        "This latter process is the process of \"tokenization\": each word/sub-word/character (the atomic unit of text) is called a \"token\"."
      ],
      "metadata": {
        "collapsed": false,
        "id": "94440f0cb80aab7c"
      },
      "id": "94440f0cb80aab7c"
    },
    {
      "cell_type": "markdown",
      "source": [
        "Start by installing the \"datasets\" python package, giving you access to some helpful utilities in downloading public datasets from HuggingFace and elsewhere."
      ],
      "metadata": {
        "id": "9Mbp7bhFKsKf"
      },
      "id": "9Mbp7bhFKsKf"
    },
    {
      "cell_type": "code",
      "source": [
        "! pip install datasets"
      ],
      "metadata": {
        "id": "nkarjQbk--sN",
        "colab": {
          "base_uri": "https://localhost:8080/"
        },
        "outputId": "1deeaf2b-4c69-4338-f3be-0c949f7f9996"
      },
      "id": "nkarjQbk--sN",
      "execution_count": null,
      "outputs": [
        {
          "output_type": "stream",
          "name": "stdout",
          "text": [
            "Collecting datasets\n",
            "  Downloading datasets-2.16.1-py3-none-any.whl (507 kB)\n",
            "\u001b[2K     \u001b[90m━━━━━━━━━━━━━━━━━━━━━━━━━━━━━━━━━━━━━━━━\u001b[0m \u001b[32m507.1/507.1 kB\u001b[0m \u001b[31m4.3 MB/s\u001b[0m eta \u001b[36m0:00:00\u001b[0m\n",
            "\u001b[?25hRequirement already satisfied: filelock in /usr/local/lib/python3.10/dist-packages (from datasets) (3.13.1)\n",
            "Requirement already satisfied: numpy>=1.17 in /usr/local/lib/python3.10/dist-packages (from datasets) (1.23.5)\n",
            "Requirement already satisfied: pyarrow>=8.0.0 in /usr/local/lib/python3.10/dist-packages (from datasets) (10.0.1)\n",
            "Requirement already satisfied: pyarrow-hotfix in /usr/local/lib/python3.10/dist-packages (from datasets) (0.6)\n",
            "Collecting dill<0.3.8,>=0.3.0 (from datasets)\n",
            "  Downloading dill-0.3.7-py3-none-any.whl (115 kB)\n",
            "\u001b[2K     \u001b[90m━━━━━━━━━━━━━━━━━━━━━━━━━━━━━━━━━━━━━━━━\u001b[0m \u001b[32m115.3/115.3 kB\u001b[0m \u001b[31m5.9 MB/s\u001b[0m eta \u001b[36m0:00:00\u001b[0m\n",
            "\u001b[?25hRequirement already satisfied: pandas in /usr/local/lib/python3.10/dist-packages (from datasets) (1.5.3)\n",
            "Requirement already satisfied: requests>=2.19.0 in /usr/local/lib/python3.10/dist-packages (from datasets) (2.31.0)\n",
            "Requirement already satisfied: tqdm>=4.62.1 in /usr/local/lib/python3.10/dist-packages (from datasets) (4.66.1)\n",
            "Requirement already satisfied: xxhash in /usr/local/lib/python3.10/dist-packages (from datasets) (3.4.1)\n",
            "Collecting multiprocess (from datasets)\n",
            "  Downloading multiprocess-0.70.15-py310-none-any.whl (134 kB)\n",
            "\u001b[2K     \u001b[90m━━━━━━━━━━━━━━━━━━━━━━━━━━━━━━━━━━━━━━━━\u001b[0m \u001b[32m134.8/134.8 kB\u001b[0m \u001b[31m5.4 MB/s\u001b[0m eta \u001b[36m0:00:00\u001b[0m\n",
            "\u001b[?25hRequirement already satisfied: fsspec[http]<=2023.10.0,>=2023.1.0 in /usr/local/lib/python3.10/dist-packages (from datasets) (2023.6.0)\n",
            "Requirement already satisfied: aiohttp in /usr/local/lib/python3.10/dist-packages (from datasets) (3.9.1)\n",
            "Requirement already satisfied: huggingface-hub>=0.19.4 in /usr/local/lib/python3.10/dist-packages (from datasets) (0.20.2)\n",
            "Requirement already satisfied: packaging in /usr/local/lib/python3.10/dist-packages (from datasets) (23.2)\n",
            "Requirement already satisfied: pyyaml>=5.1 in /usr/local/lib/python3.10/dist-packages (from datasets) (6.0.1)\n",
            "Requirement already satisfied: attrs>=17.3.0 in /usr/local/lib/python3.10/dist-packages (from aiohttp->datasets) (23.2.0)\n",
            "Requirement already satisfied: multidict<7.0,>=4.5 in /usr/local/lib/python3.10/dist-packages (from aiohttp->datasets) (6.0.4)\n",
            "Requirement already satisfied: yarl<2.0,>=1.0 in /usr/local/lib/python3.10/dist-packages (from aiohttp->datasets) (1.9.4)\n",
            "Requirement already satisfied: frozenlist>=1.1.1 in /usr/local/lib/python3.10/dist-packages (from aiohttp->datasets) (1.4.1)\n",
            "Requirement already satisfied: aiosignal>=1.1.2 in /usr/local/lib/python3.10/dist-packages (from aiohttp->datasets) (1.3.1)\n",
            "Requirement already satisfied: async-timeout<5.0,>=4.0 in /usr/local/lib/python3.10/dist-packages (from aiohttp->datasets) (4.0.3)\n",
            "Requirement already satisfied: typing-extensions>=3.7.4.3 in /usr/local/lib/python3.10/dist-packages (from huggingface-hub>=0.19.4->datasets) (4.5.0)\n",
            "Requirement already satisfied: charset-normalizer<4,>=2 in /usr/local/lib/python3.10/dist-packages (from requests>=2.19.0->datasets) (3.3.2)\n",
            "Requirement already satisfied: idna<4,>=2.5 in /usr/local/lib/python3.10/dist-packages (from requests>=2.19.0->datasets) (3.6)\n",
            "Requirement already satisfied: urllib3<3,>=1.21.1 in /usr/local/lib/python3.10/dist-packages (from requests>=2.19.0->datasets) (2.0.7)\n",
            "Requirement already satisfied: certifi>=2017.4.17 in /usr/local/lib/python3.10/dist-packages (from requests>=2.19.0->datasets) (2023.11.17)\n",
            "Requirement already satisfied: python-dateutil>=2.8.1 in /usr/local/lib/python3.10/dist-packages (from pandas->datasets) (2.8.2)\n",
            "Requirement already satisfied: pytz>=2020.1 in /usr/local/lib/python3.10/dist-packages (from pandas->datasets) (2023.3.post1)\n",
            "Requirement already satisfied: six>=1.5 in /usr/local/lib/python3.10/dist-packages (from python-dateutil>=2.8.1->pandas->datasets) (1.16.0)\n",
            "Installing collected packages: dill, multiprocess, datasets\n",
            "Successfully installed datasets-2.16.1 dill-0.3.7 multiprocess-0.70.15\n"
          ]
        }
      ]
    },
    {
      "cell_type": "markdown",
      "source": [
        "There are pre-built tokenizer models, which have both code and mappings between tokens and token *ids* - integers which will be feature columns for the text\n",
        "\n",
        "We will first use the BERT model (the original \"transformer\" from the \"[Attention is All You Need](https://arxiv.org/abs/1706.03762)\" paper), in a form which knows how to differentiate between lower and uppercase characters (some tokenizers lowercase everything first).  It's called \"bert-base-uncased\"."
      ],
      "metadata": {
        "id": "6bc7ZzH_K_q3"
      },
      "id": "6bc7ZzH_K_q3"
    },
    {
      "cell_type": "code",
      "source": [
        "from transformers import AutoTokenizer\n",
        "tokenizer = AutoTokenizer.from_pretrained(\"bert-base-cased\")"
      ],
      "metadata": {
        "id": "3T4RdUce_K0w",
        "colab": {
          "base_uri": "https://localhost:8080/",
          "height": 269,
          "referenced_widgets": [
            "1179aa257fcd4e639b6ec3663991e2f4",
            "430dccbdbcc54025b36f2faf96efe5c6",
            "8418a77136d1450b88ef2575ff9060ff",
            "f3ce89c4ae8840dfb6972ae7d5851dcc",
            "5764d0054b8f4276a9aad915314f68f7",
            "1eb65017ec08480181fb2c29c273dd7f",
            "9a109ec3c5d4416c843e71ec84860a98",
            "917c24a14b5c447ab7d3d9a3f3510bb8",
            "78cab13f20744421a78d6d62f205e535",
            "fa0841e11830435398c0af685b5cbd9e",
            "b5a67d86506a455b89368cb707b93d83",
            "fd65752d0459427aa431ae526a4d8da4",
            "f14cd2c51a484a61b158d97c11b89cf6",
            "5fbcbe00af6d4429808557e47f0ba343",
            "75fbf3ef0923468da4c4fcb4adaab06f",
            "3cdf6d343a644319a436c1820cf880e3",
            "4e148ed54d334ae3be7fb4869675e3e9",
            "ee816f6afad44eb49aad088190ea7738",
            "51dbcd4ab9644381ab38c02bdf562ba4",
            "d9b00ddfdc9342bb8aea042868ee27c6",
            "c12d9204de384510bab1011553fe485c",
            "b1dbf1b5d20f454fa751737a7fd225c8",
            "21b9efb2f3684fffb229da51f30be2ff",
            "f67d955212014a778b3a756fb2ae63cc",
            "80be8f5ee752437fa1604cd1aac9c21e",
            "06666b8208b743e48515e27fad047165",
            "f2fdfd33ef80494fbf396a053aa0b4e5",
            "71a2d38f3d9e498db34af7fe46ca3851",
            "ea60ce082a1d4f1fb1e36b76904a24c8",
            "d9a8aa2048144a59b3fd16bde9c9f7ea",
            "f54719b9f353424082b340a1e0b32869",
            "4d974d6b8f1a4bb98f47a8dc30f8a1b5",
            "47d6c89dbac7486eadec938b7eae592c",
            "55ed69ac06d3403caa67d6a887a3f528",
            "24679a932db94caebf1495bea1adc931",
            "dea22e56bd64444c9e23c74eecdac648",
            "7d28fffe7a46416b92a6685ac7f79a28",
            "9ed6966341544e21bd2a01e8e44fda7a",
            "e31ea1e7ce294719a6b278179fd06598",
            "24821e4b26db405381b41d60a206db55",
            "a68af8c5279e40e6a7247c6d0145ad27",
            "d08daf25231b40c6b37fa7e67c60cd89",
            "01889ac7adde4a5bac3c81d90e95254d",
            "0578b5d57b3a47fc806ba1a82b6fba8f"
          ]
        },
        "outputId": "d1a58cf5-ce07-44e5-a8d7-b0e2b104410b"
      },
      "id": "3T4RdUce_K0w",
      "execution_count": null,
      "outputs": [
        {
          "output_type": "stream",
          "name": "stderr",
          "text": [
            "/usr/local/lib/python3.10/dist-packages/huggingface_hub/utils/_token.py:88: UserWarning: \n",
            "The secret `HF_TOKEN` does not exist in your Colab secrets.\n",
            "To authenticate with the Hugging Face Hub, create a token in your settings tab (https://huggingface.co/settings/tokens), set it as secret in your Google Colab and restart your session.\n",
            "You will be able to reuse this secret in all of your notebooks.\n",
            "Please note that authentication is recommended but still optional to access public models or datasets.\n",
            "  warnings.warn(\n"
          ]
        },
        {
          "output_type": "display_data",
          "data": {
            "text/plain": [
              "tokenizer_config.json:   0%|          | 0.00/29.0 [00:00<?, ?B/s]"
            ],
            "application/vnd.jupyter.widget-view+json": {
              "version_major": 2,
              "version_minor": 0,
              "model_id": "1179aa257fcd4e639b6ec3663991e2f4"
            }
          },
          "metadata": {}
        },
        {
          "output_type": "display_data",
          "data": {
            "text/plain": [
              "config.json:   0%|          | 0.00/570 [00:00<?, ?B/s]"
            ],
            "application/vnd.jupyter.widget-view+json": {
              "version_major": 2,
              "version_minor": 0,
              "model_id": "fd65752d0459427aa431ae526a4d8da4"
            }
          },
          "metadata": {}
        },
        {
          "output_type": "display_data",
          "data": {
            "text/plain": [
              "vocab.txt:   0%|          | 0.00/213k [00:00<?, ?B/s]"
            ],
            "application/vnd.jupyter.widget-view+json": {
              "version_major": 2,
              "version_minor": 0,
              "model_id": "21b9efb2f3684fffb229da51f30be2ff"
            }
          },
          "metadata": {}
        },
        {
          "output_type": "display_data",
          "data": {
            "text/plain": [
              "tokenizer.json:   0%|          | 0.00/436k [00:00<?, ?B/s]"
            ],
            "application/vnd.jupyter.widget-view+json": {
              "version_major": 2,
              "version_minor": 0,
              "model_id": "55ed69ac06d3403caa67d6a887a3f528"
            }
          },
          "metadata": {}
        }
      ]
    },
    {
      "cell_type": "markdown",
      "source": [
        "Note in the output above, you should see a comment about the \"HF_TOKEN\" secret.  There is also a link to HuggingFace, where you can generate your HF Token (see note below about the word \"token\"). To the left part of the Colab screen, there is a \"key\" icon: you can store your HF_TOKEN as a secret there.  Name it HF_TOKEN and give it \"notebook access\" via the toggle.\n",
        "\n",
        "\n",
        "--\n",
        "\n",
        " note on \"token\": there are now two completely unrelated uses of the word \"token\" in this lab:\n",
        "\n",
        "* \"token\": a unit of text like a word or character (or even multi-word phrase) used in text preprocessing\n",
        "* \"HF_TOKEN\": a password-like thing for getting access to HuggingFace"
      ],
      "metadata": {
        "id": "TmsouK9iMHfL"
      },
      "id": "TmsouK9iMHfL"
    },
    {
      "cell_type": "code",
      "source": [
        "encoded = tokenizer.encode(\"Do not meddle in the affairs of wizards\")"
      ],
      "metadata": {
        "id": "RC54OI7KdEFm"
      },
      "id": "RC54OI7KdEFm",
      "execution_count": null,
      "outputs": []
    },
    {
      "cell_type": "code",
      "source": [
        "# prompt: write python code to print the textual tokens in sequential order from a string, using the above tokenizer\n",
        "\n",
        "print(tokenizer.convert_ids_to_tokens(encoded))\n"
      ],
      "metadata": {
        "id": "qZ4Pst-mdd-n",
        "colab": {
          "base_uri": "https://localhost:8080/"
        },
        "outputId": "81a08635-1fcf-4c06-8dc4-8228de10171a"
      },
      "id": "qZ4Pst-mdd-n",
      "execution_count": null,
      "outputs": [
        {
          "output_type": "stream",
          "name": "stdout",
          "text": [
            "['[CLS]', 'Do', 'not', 'me', '##ddle', 'in', 'the', 'affairs', 'of', 'wizard', '##s', '[SEP]']\n"
          ]
        }
      ]
    },
    {
      "cell_type": "code",
      "source": [
        "print(encoded)"
      ],
      "metadata": {
        "id": "bbIbhRAYdOOC",
        "colab": {
          "base_uri": "https://localhost:8080/"
        },
        "outputId": "22b839f7-8bdb-4747-8e6a-13c99ced384b"
      },
      "id": "bbIbhRAYdOOC",
      "execution_count": null,
      "outputs": [
        {
          "output_type": "stream",
          "name": "stdout",
          "text": [
            "[101, 2091, 1136, 1143, 13002, 1107, 1103, 5707, 1104, 16678, 1116, 102]\n"
          ]
        }
      ]
    },
    {
      "cell_type": "code",
      "source": [
        "encoded_input = tokenizer(\"Do not meddle in the affairs of wizards, for they are subtle and quick to anger.\")\n",
        "print(encoded_input.keys())\n",
        "print(encoded_input['input_ids'])"
      ],
      "metadata": {
        "id": "Ht_0MoRXAX44"
      },
      "id": "Ht_0MoRXAX44",
      "execution_count": null,
      "outputs": []
    },
    {
      "cell_type": "code",
      "source": [
        "! pip install sentence-transformers"
      ],
      "metadata": {
        "id": "W2rBjCvgHzIv"
      },
      "id": "W2rBjCvgHzIv",
      "execution_count": null,
      "outputs": []
    },
    {
      "cell_type": "code",
      "source": [
        "from sentence_transformers import SentenceTransformer\n",
        "model = SentenceTransformer('all-MiniLM-L6-v2')\n",
        "sentences = ['This framework generates embeddings for each input sentence',\n",
        "    'Sentences are passed as a list of string.',\n",
        "    'The quick brown fox jumps over the lazy dog.']\n",
        "embeddings = model.encode(sentences)\n",
        "\n",
        "#Print the embeddings\n",
        "for sentence, embedding in zip(sentences, embeddings):\n",
        "    print(\"Sentence:\", sentence)\n",
        "    print(\"Embedding:\", embedding)\n",
        "    print(\"\")"
      ],
      "metadata": {
        "id": "LZLFiGncH8Sj"
      },
      "id": "LZLFiGncH8Sj",
      "execution_count": null,
      "outputs": []
    },
    {
      "cell_type": "markdown",
      "source": [
        "At this point, go ahead and explore with the vector representation (the \"embedding\") of any sentence (or string of text, more generally), looking at the tokenized form, the list of token_id integers, or compute cosine similarities between the embeddings:"
      ],
      "metadata": {
        "id": "Ice7JjeWu_CY"
      },
      "id": "Ice7JjeWu_CY"
    },
    {
      "cell_type": "code",
      "source": [
        "words = [\"quick\", \"fast\", \"red\", \"blue\", \"ferari\"]\n",
        "single_word_embeddings = model.encode(words)\n",
        "\n",
        "for word, embed in zip(words, single_word_embeddings):\n",
        "  print(\"word: \", word)\n",
        "  print(\"embed: \", embed[0:10])\n",
        "  print(\"\")\n",
        "\n"
      ],
      "metadata": {
        "id": "S-oThXNtWxFE",
        "colab": {
          "base_uri": "https://localhost:8080/"
        },
        "outputId": "50e2b059-36d5-4868-bddf-b93d981a22be"
      },
      "id": "S-oThXNtWxFE",
      "execution_count": null,
      "outputs": [
        {
          "output_type": "stream",
          "name": "stdout",
          "text": [
            "word:  quick\n",
            "embed:  [-0.01363505  0.02511056 -0.03966426 -0.00121545  0.03869091 -0.04272134\n",
            "  0.03643535  0.00567384  0.00246003 -0.04250647]\n",
            "\n",
            "word:  fast\n",
            "embed:  [-0.01659232  0.06137965 -0.01092987  0.02365591 -0.0138125  -0.01203378\n",
            " -0.00972914 -0.05885596 -0.01261965 -0.0577055 ]\n",
            "\n",
            "word:  red\n",
            "embed:  [-0.02509159  0.00884627 -0.10083688  0.01320896  0.01490394  0.02841406\n",
            "  0.15962426  0.01331032  0.03514304 -0.04301136]\n",
            "\n",
            "word:  blue\n",
            "embed:  [-0.06580827  0.0203764  -0.05504949 -0.00301157  0.01343209  0.02449333\n",
            "  0.20061415 -0.00983796  0.04382765 -0.01033155]\n",
            "\n",
            "word:  ferari\n",
            "embed:  [ 0.00451991  0.08644823 -0.12962112  0.05201175  0.01814397 -0.07465909\n",
            "  0.07894592  0.05689763 -0.00582556 -0.09301732]\n",
            "\n"
          ]
        }
      ]
    },
    {
      "cell_type": "code",
      "source": [
        "# prompt: python code to compute the matrix of cosines between all of the pairs of words in the list above.\n",
        "\n",
        "from sklearn.metrics.pairwise import cosine_similarity\n",
        "# Compute the cosine similarity between all pairs of words\n",
        "word_embeddings = model.encode(words)\n",
        "word_similarities = cosine_similarity(word_embeddings)\n",
        "# Print the word similarities\n",
        "print(word_similarities)\n"
      ],
      "metadata": {
        "id": "Q8Ii3VZWXdUD",
        "outputId": "c24f1d20-5a27-4652-ff93-e1fba12a2142",
        "colab": {
          "base_uri": "https://localhost:8080/"
        }
      },
      "id": "Q8Ii3VZWXdUD",
      "execution_count": null,
      "outputs": [
        {
          "output_type": "stream",
          "name": "stdout",
          "text": [
            "[[1.0000001  0.6515874  0.3388258  0.33914232 0.28320336]\n",
            " [0.6515874  1.         0.32009655 0.30601805 0.26345903]\n",
            " [0.3388258  0.32009655 1.         0.72944736 0.26313198]\n",
            " [0.33914232 0.30601805 0.72944736 1.         0.22827557]\n",
            " [0.28320336 0.26345903 0.26313198 0.22827557 0.99999976]]\n"
          ]
        }
      ]
    },
    {
      "cell_type": "code",
      "source": [
        "# prompt: python code for computing cosine similarity between sentence vector embeddings from the above tokenizer and model\n",
        "\n",
        "from scipy.spatial.distance import cosine\n",
        "for sentence in sentences:\n",
        "    print(\"Sentence:\", sentence)\n",
        "print(\"\")\n",
        "print(\"Cosine similarity between the first two sentences:\", cosine(embeddings[0], embeddings[1]))\n",
        "print(\"Cosine similarity between the second and third sentences:\", cosine(embeddings[1], embeddings[2]))\n",
        "print(\"Cosine similarity between the first and third sentences:\", cosine(embeddings[0], embeddings[2]))\n"
      ],
      "metadata": {
        "id": "oPdkeFdRVBcd"
      },
      "id": "oPdkeFdRVBcd",
      "execution_count": null,
      "outputs": []
    },
    {
      "cell_type": "code",
      "source": [
        "# prompt: python code to compute the contextual BERT embeddings for all the the words in the sentence \"time flies like an arrow, fruit flies like a banana\"\n",
        "\n",
        "model = SentenceTransformer('all-MiniLM-L6-v2') #this is literally the only line I kept from the AI prompt, which itself is redundant bc it was called earlier in the notebook.\n",
        "encoded_input = tokenizer(\"time flies like an arrow, fruit flies like a banana\")\n",
        "print(tokenizer.convert_ids_to_tokens(encoded_input['input_ids']))\n",
        "print(encoded_input['input_ids'])\n",
        "#both flies use the same token when considered individually like this. (same for like)\n"
      ],
      "metadata": {
        "colab": {
          "base_uri": "https://localhost:8080/"
        },
        "id": "Zo1yeqzf_wP7",
        "outputId": "f9affcc2-b81c-4a69-e4c5-f6b949d590c7"
      },
      "id": "Zo1yeqzf_wP7",
      "execution_count": null,
      "outputs": [
        {
          "output_type": "stream",
          "name": "stdout",
          "text": [
            "['[CLS]', 'time', 'flies', 'like', 'an', 'arrow', ',', 'fruit', 'flies', 'like', 'a', 'banana', '[SEP]']\n",
            "[101, 1159, 10498, 1176, 1126, 11473, 117, 5735, 10498, 1176, 170, 21806, 102]\n"
          ]
        }
      ]
    },
    {
      "cell_type": "code",
      "source": [
        "# prompt: Give me a sentence with 2 words, spelt the same, but with different meanings, but make it a unique such sentence that has nothing to do with flies or time\n",
        "#Yes I am very creative. I spent like 30 mins just trying to get to the point where I can type and now gotta figure out how to save from colabs to github. If you are reading this I succeeded.\n",
        "print(\"The data file is on the disk, but the disk drive is not working.\")\n",
        "encoded_input = tokenizer(\"The data file is on the disk, but the disk drive is not working.\")\n",
        "print(tokenizer.convert_ids_to_tokens(encoded_input['input_ids']))\n",
        "print(encoded_input['input_ids'])"
      ],
      "metadata": {
        "colab": {
          "base_uri": "https://localhost:8080/"
        },
        "id": "nIsF6VHyCkkD",
        "outputId": "f01fc4c6-ff8f-42b4-aff4-2b526485a7c1"
      },
      "id": "nIsF6VHyCkkD",
      "execution_count": null,
      "outputs": [
        {
          "output_type": "stream",
          "name": "stdout",
          "text": [
            "The data file is on the disk, but the disk drive is not working.\n",
            "['[CLS]', 'The', 'data', 'file', 'is', 'on', 'the', 'disk', ',', 'but', 'the', 'disk', 'drive', 'is', 'not', 'working', '.', '[SEP]']\n",
            "[101, 1109, 2233, 4956, 1110, 1113, 1103, 10437, 117, 1133, 1103, 10437, 2797, 1110, 1136, 1684, 119, 102]\n"
          ]
        }
      ]
    },
    {
      "cell_type": "code",
      "source": [
        "#using the above code to answer a question\n",
        "words = ['flies', 'insect', 'bird', 'like', 'enjoy', 'similar']\n",
        "from sklearn.metrics.pairwise import cosine_similarity\n",
        "# Compute the cosine similarity between all pairs of words\n",
        "word_embeddings = model.encode(words)\n",
        "word_similarities = cosine_similarity(word_embeddings)\n",
        "# Print the word similarities\n",
        "print(word_similarities)\n",
        "\n",
        "#I believe this shows that the AI more strongly correlates 'flies' to the bug and 'like' to the comparison usage.\n"
      ],
      "metadata": {
        "colab": {
          "base_uri": "https://localhost:8080/"
        },
        "id": "_fYVV7bEDIXJ",
        "outputId": "5ed243fd-f307-4ef1-a552-4e2efa42704d"
      },
      "id": "_fYVV7bEDIXJ",
      "execution_count": null,
      "outputs": [
        {
          "output_type": "stream",
          "name": "stdout",
          "text": [
            "[[1.         0.61485314 0.4749211  0.296232   0.17646007 0.23970282]\n",
            " [0.61485314 1.0000005  0.5042044  0.15512988 0.11409886 0.21923347]\n",
            " [0.4749211  0.5042044  0.9999999  0.19844429 0.19370267 0.2452532 ]\n",
            " [0.296232   0.15512988 0.19844429 1.         0.15361592 0.52412146]\n",
            " [0.17646007 0.11409886 0.19370267 0.15361592 1.0000002  0.19263732]\n",
            " [0.23970282 0.21923347 0.2452532  0.52412146 0.19263732 1.0000002 ]]\n"
          ]
        }
      ]
    },
    {
      "cell_type": "code",
      "source": [
        "# prompt: write python code to get the contextual embeddings of words in a sentence to demonstrate how the bert model sees the word 'flies' differently depending on the context\n",
        "#colab AI is dumb so I used chatgpt\n",
        "from sklearn.metrics.pairwise import cosine_similarity\n",
        "from transformers import BertTokenizer, BertModel\n",
        "import torch\n",
        "\n",
        "# Load pre-trained model and tokenizer\n",
        "model_name = 'bert-base-uncased'\n",
        "tokenizer = BertTokenizer.from_pretrained(model_name)\n",
        "model = BertModel.from_pretrained(model_name)\n",
        "\n",
        "# Define a sentence with different contexts for the word 'flies'\n",
        "sentences = [\n",
        "    \"The bird flies in the sky.\",\n",
        "    \"He flies a kite in the park.\",\n",
        "    \"Time flies when you're having fun.\"\n",
        "]\n",
        "\n",
        "# Get contextual embeddings for the word 'flies'\n",
        "word = 'flies'\n",
        "word_tokens = tokenizer.tokenize(tokenizer.decode(tokenizer.encode(word)))\n",
        "word_indices = [i for i, token in enumerate(tokenizer.tokenize(tokenizer.decode(tokenizer.encode(sentences[0])))) if token == word_tokens[0]]\n",
        "\n",
        "embeddings_list = []\n",
        "\n",
        "for sentence in sentences:\n",
        "    input_ids = tokenizer.encode(sentence, return_tensors='pt')\n",
        "\n",
        "    with torch.no_grad():\n",
        "        outputs = model(input_ids)\n",
        "        embeddings = outputs.last_hidden_state.squeeze(0)\n",
        "\n",
        "    # Get the contextual embedding for the word 'flies' by averaging embeddings of its subwords\n",
        "    flies_embedding = torch.mean(embeddings[word_indices], dim=0)\n",
        "    embeddings_list.append(flies_embedding)\n",
        "\n",
        "    # Print the context and the contextual embedding for 'flies'\n",
        "    #print(f\"Context: {sentence}\")\n",
        "    #print(f\"Contextual embedding for 'flies': {flies_embedding}\")\n",
        "    #print(\"\\n\" + \"=\" * 50 + \"\\n\")\n",
        "\n",
        "# I think this is what is required for the contextual embeddings, it is not nearly as clean as the tokens generated in the previous sections.\n",
        "#here is what it generated for the cosine similarities for the various flies\n",
        "\n",
        "# Calculate cosine similarity between the embeddings\n",
        "similarity_matrix = cosine_similarity(torch.stack(embeddings_list, dim=0))\n",
        "\n",
        "# Print the similarity matrix\n",
        "print(\"Cosine Similarity Matrix:\")\n",
        "print(similarity_matrix)\n"
      ],
      "metadata": {
        "colab": {
          "base_uri": "https://localhost:8080/"
        },
        "id": "EwFh2p-HDhXP",
        "outputId": "11317fb2-03e9-4f0e-846a-8a10a78d6381"
      },
      "id": "EwFh2p-HDhXP",
      "execution_count": 2,
      "outputs": [
        {
          "output_type": "stream",
          "name": "stdout",
          "text": [
            "Cosine Similarity Matrix:\n",
            "[[1.         0.81232595 0.7941936 ]\n",
            " [0.81232595 0.9999998  0.7914548 ]\n",
            " [0.7941936  0.7914548  1.        ]]\n"
          ]
        }
      ]
    },
    {
      "cell_type": "code",
      "source": [
        "words = ['there', 'their', 'they\\'re']\n",
        "\n",
        "# Example sentences\n",
        "sentences = [\n",
        "    \"It is over there\",\n",
        "    \"It is over their\",\n",
        "    \"It is over they're\"\n",
        "]\n",
        "\n",
        "# Get contextual embeddings for each word in the list\n",
        "embeddings_list = []\n",
        "\n",
        "for word in words:\n",
        "    word_tokens = tokenizer.tokenize(tokenizer.decode(tokenizer.encode(word)))\n",
        "\n",
        "    for sentence in sentences:\n",
        "        word_indices = [i for i, token in enumerate(tokenizer.tokenize(tokenizer.decode(tokenizer.encode(sentence)))) if token in word_tokens]\n",
        "\n",
        "        input_ids = tokenizer.encode(sentence, return_tensors='pt')\n",
        "\n",
        "        with torch.no_grad():\n",
        "            outputs = model(input_ids)\n",
        "            embeddings = outputs.last_hidden_state.squeeze(0)\n",
        "\n",
        "        # Get the contextual embedding for the current word by averaging embeddings of its subwords\n",
        "        word_embedding = torch.mean(embeddings[word_indices], dim=0)  # Fix the reshaping here\n",
        "        embeddings_list.append(word_embedding)\n",
        "\n",
        "# Reshape the embeddings list for comparison\n",
        "embeddings_tensor = torch.stack(embeddings_list).reshape(len(words), len(sentences), -1)\n",
        "\n",
        "# Calculate cosine similarity between the embeddings\n",
        "similarity_matrix = cosine_similarity(embeddings_tensor.reshape(len(words), -1), embeddings_tensor.reshape(len(words), -1))\n",
        "\n",
        "# Print the similarity matrix\n",
        "print(\"Cosine Similarity Matrix:\")\n",
        "print(\"'there', 'their', they're\")\n",
        "print(similarity_matrix)\n",
        "\n",
        "#This shows that the 3 theres are encoded as very similar. I am going to repeat this experiment with other sentences below"
      ],
      "metadata": {
        "id": "Sypk44-EIMs8",
        "outputId": "ef5d13d2-d78b-425d-8482-34ebb3abfe85",
        "colab": {
          "base_uri": "https://localhost:8080/"
        }
      },
      "id": "Sypk44-EIMs8",
      "execution_count": 17,
      "outputs": [
        {
          "output_type": "stream",
          "name": "stdout",
          "text": [
            "Cosine Similarity Matrix:\n",
            "'there', 'their', they're\n",
            "[[1.0000002  0.9122655  0.88896024]\n",
            " [0.9122655  1.         0.89280814]\n",
            " [0.88896024 0.89280814 1.        ]]\n"
          ]
        }
      ]
    },
    {
      "cell_type": "code",
      "source": [
        "words = ['there', 'their', 'they\\'re']\n",
        "\n",
        "# Example sentences\n",
        "sentences = [\n",
        "    \"It is over there\",\n",
        "    \"It is their house\",\n",
        "    \"Golly, they're super nice\"\n",
        "]\n",
        "\n",
        "# Get contextual embeddings for each word in the list\n",
        "embeddings_list = []\n",
        "\n",
        "for word in words:\n",
        "    word_tokens = tokenizer.tokenize(tokenizer.decode(tokenizer.encode(word)))\n",
        "\n",
        "    for sentence in sentences:\n",
        "        word_indices = [i for i, token in enumerate(tokenizer.tokenize(tokenizer.decode(tokenizer.encode(sentence)))) if token in word_tokens]\n",
        "\n",
        "        input_ids = tokenizer.encode(sentence, return_tensors='pt')\n",
        "\n",
        "        with torch.no_grad():\n",
        "            outputs = model(input_ids)\n",
        "            embeddings = outputs.last_hidden_state.squeeze(0)\n",
        "\n",
        "        # Get the contextual embedding for the current word by averaging embeddings of its subwords\n",
        "        word_embedding = torch.mean(embeddings[word_indices], dim=0)  # Fix the reshaping here\n",
        "        embeddings_list.append(word_embedding)\n",
        "\n",
        "# Reshape the embeddings list for comparison\n",
        "embeddings_tensor = torch.stack(embeddings_list).reshape(len(words), len(sentences), -1)\n",
        "\n",
        "# Calculate cosine similarity between the embeddings\n",
        "similarity_matrix = cosine_similarity(embeddings_tensor.reshape(len(words), -1), embeddings_tensor.reshape(len(words), -1))\n",
        "\n",
        "# Print the similarity matrix\n",
        "print(\"Cosine Similarity Matrix:\")\n",
        "print(\"'there', 'their', they're\")\n",
        "print(similarity_matrix)\n",
        "#That is really neat! They show different, more similar, meanings when misused."
      ],
      "metadata": {
        "id": "sCZVHDcwSiYR",
        "outputId": "834d3f15-14d1-4707-ef0d-b7d428730f0c",
        "colab": {
          "base_uri": "https://localhost:8080/"
        }
      },
      "id": "sCZVHDcwSiYR",
      "execution_count": 16,
      "outputs": [
        {
          "output_type": "stream",
          "name": "stdout",
          "text": [
            "Cosine Similarity Matrix:\n",
            "'there', 'their', they're\n",
            "[[1.        0.9063654 0.8875115]\n",
            " [0.9063654 1.0000001 0.8878656]\n",
            " [0.8875115 0.8878656 1.0000002]]\n"
          ]
        }
      ]
    },
    {
      "cell_type": "code",
      "source": [
        "words = ['your', 'you\\'re', 'yore']\n",
        "\n",
        "# Example sentences\n",
        "sentences = [\n",
        "    \"Please bring your book to the meeting\",\n",
        "    \" If you're not sure, please ask for clarification\",\n",
        "    \"In the days of yore, people relied on handwritten letters for communication.\"\n",
        "]\n",
        "\n",
        "# Get contextual embeddings for each word in the list\n",
        "embeddings_list = []\n",
        "\n",
        "for word in words:\n",
        "    word_tokens = tokenizer.tokenize(tokenizer.decode(tokenizer.encode(word)))\n",
        "\n",
        "    for sentence in sentences:\n",
        "        word_indices = [i for i, token in enumerate(tokenizer.tokenize(tokenizer.decode(tokenizer.encode(sentence)))) if token in word_tokens]\n",
        "\n",
        "        input_ids = tokenizer.encode(sentence, return_tensors='pt')\n",
        "\n",
        "        with torch.no_grad():\n",
        "            outputs = model(input_ids)\n",
        "            embeddings = outputs.last_hidden_state.squeeze(0)\n",
        "\n",
        "        # Get the contextual embedding for the current word by averaging embeddings of its subwords\n",
        "        word_embedding = torch.mean(embeddings[word_indices], dim=0)  # Fix the reshaping here\n",
        "        embeddings_list.append(word_embedding)\n",
        "\n",
        "# Reshape the embeddings list for comparison\n",
        "embeddings_tensor = torch.stack(embeddings_list).reshape(len(words), len(sentences), -1)\n",
        "\n",
        "# Calculate cosine similarity between the embeddings\n",
        "similarity_matrix = cosine_similarity(embeddings_tensor.reshape(len(words), -1), embeddings_tensor.reshape(len(words), -1))\n",
        "\n",
        "# Print the similarity matrix\n",
        "print(\"Cosine Similarity Matrix:\")\n",
        "print(\"'your', 'you're', 'yore'\")\n",
        "print(similarity_matrix)\n",
        "\n",
        "\n",
        "sentences = [\n",
        "    \"Please bring your book to the meeting\",\n",
        "    \"Please bring you're book to the meeting\",\n",
        "    \"Please bring yore book to the meeting\"\n",
        "]\n",
        "# Get contextual embeddings for each word in the list\n",
        "embeddings_list = []\n",
        "\n",
        "for word in words:\n",
        "    word_tokens = tokenizer.tokenize(tokenizer.decode(tokenizer.encode(word)))\n",
        "\n",
        "    for sentence in sentences:\n",
        "        word_indices = [i for i, token in enumerate(tokenizer.tokenize(tokenizer.decode(tokenizer.encode(sentence)))) if token in word_tokens]\n",
        "\n",
        "        input_ids = tokenizer.encode(sentence, return_tensors='pt')\n",
        "\n",
        "        with torch.no_grad():\n",
        "            outputs = model(input_ids)\n",
        "            embeddings = outputs.last_hidden_state.squeeze(0)\n",
        "\n",
        "        # Get the contextual embedding for the current word by averaging embeddings of its subwords\n",
        "        word_embedding = torch.mean(embeddings[word_indices], dim=0)  # Fix the reshaping here\n",
        "        embeddings_list.append(word_embedding)\n",
        "\n",
        "# Reshape the embeddings list for comparison\n",
        "embeddings_tensor = torch.stack(embeddings_list).reshape(len(words), len(sentences), -1)\n",
        "\n",
        "# Calculate cosine similarity between the embeddings\n",
        "similarity_matrix = cosine_similarity(embeddings_tensor.reshape(len(words), -1), embeddings_tensor.reshape(len(words), -1))\n",
        "\n",
        "# Print the similarity matrix\n",
        "print(\"Cosine Similarity Matrix:\")\n",
        "print(\"'your', 'you're', 'yore'\")\n",
        "print(similarity_matrix)\n",
        "\n",
        "#once again a very similar situation"
      ],
      "metadata": {
        "id": "ubujr-5iYYWa",
        "outputId": "fca332d3-9938-4ce8-8bb8-ee684286c46a",
        "colab": {
          "base_uri": "https://localhost:8080/"
        }
      },
      "id": "ubujr-5iYYWa",
      "execution_count": 20,
      "outputs": [
        {
          "output_type": "stream",
          "name": "stdout",
          "text": [
            "Cosine Similarity Matrix:\n",
            "'your', 'you're', 'yore'\n",
            "[[0.9999997 0.8873764 0.8885362]\n",
            " [0.8873764 0.9999999 0.8735747]\n",
            " [0.8885362 0.8735747 1.0000005]]\n",
            "Cosine Similarity Matrix:\n",
            "'your', 'you're', 'yore'\n",
            "[[1.0000001  0.86687475 0.81430036]\n",
            " [0.86687475 1.0000001  0.8054873 ]\n",
            " [0.81430036 0.8054873  0.9999997 ]]\n"
          ]
        }
      ]
    },
    {
      "cell_type": "code",
      "source": [],
      "metadata": {
        "id": "xhPC-ucRZOzq"
      },
      "id": "xhPC-ucRZOzq",
      "execution_count": null,
      "outputs": []
    }
  ],
  "metadata": {
    "kernelspec": {
      "display_name": "Python 3",
      "language": "python",
      "name": "python3"
    },
    "language_info": {
      "codemirror_mode": {
        "name": "ipython",
        "version": 2
      },
      "file_extension": ".py",
      "mimetype": "text/x-python",
      "name": "python",
      "nbconvert_exporter": "python",
      "pygments_lexer": "ipython2",
      "version": "2.7.6"
    },
    "colab": {
      "provenance": [],
      "include_colab_link": true
    },
    "widgets": {
      "application/vnd.jupyter.widget-state+json": {
        "1179aa257fcd4e639b6ec3663991e2f4": {
          "model_module": "@jupyter-widgets/controls",
          "model_name": "HBoxModel",
          "model_module_version": "1.5.0",
          "state": {
            "_dom_classes": [],
            "_model_module": "@jupyter-widgets/controls",
            "_model_module_version": "1.5.0",
            "_model_name": "HBoxModel",
            "_view_count": null,
            "_view_module": "@jupyter-widgets/controls",
            "_view_module_version": "1.5.0",
            "_view_name": "HBoxView",
            "box_style": "",
            "children": [
              "IPY_MODEL_430dccbdbcc54025b36f2faf96efe5c6",
              "IPY_MODEL_8418a77136d1450b88ef2575ff9060ff",
              "IPY_MODEL_f3ce89c4ae8840dfb6972ae7d5851dcc"
            ],
            "layout": "IPY_MODEL_5764d0054b8f4276a9aad915314f68f7"
          }
        },
        "430dccbdbcc54025b36f2faf96efe5c6": {
          "model_module": "@jupyter-widgets/controls",
          "model_name": "HTMLModel",
          "model_module_version": "1.5.0",
          "state": {
            "_dom_classes": [],
            "_model_module": "@jupyter-widgets/controls",
            "_model_module_version": "1.5.0",
            "_model_name": "HTMLModel",
            "_view_count": null,
            "_view_module": "@jupyter-widgets/controls",
            "_view_module_version": "1.5.0",
            "_view_name": "HTMLView",
            "description": "",
            "description_tooltip": null,
            "layout": "IPY_MODEL_1eb65017ec08480181fb2c29c273dd7f",
            "placeholder": "​",
            "style": "IPY_MODEL_9a109ec3c5d4416c843e71ec84860a98",
            "value": "tokenizer_config.json: 100%"
          }
        },
        "8418a77136d1450b88ef2575ff9060ff": {
          "model_module": "@jupyter-widgets/controls",
          "model_name": "FloatProgressModel",
          "model_module_version": "1.5.0",
          "state": {
            "_dom_classes": [],
            "_model_module": "@jupyter-widgets/controls",
            "_model_module_version": "1.5.0",
            "_model_name": "FloatProgressModel",
            "_view_count": null,
            "_view_module": "@jupyter-widgets/controls",
            "_view_module_version": "1.5.0",
            "_view_name": "ProgressView",
            "bar_style": "success",
            "description": "",
            "description_tooltip": null,
            "layout": "IPY_MODEL_917c24a14b5c447ab7d3d9a3f3510bb8",
            "max": 29,
            "min": 0,
            "orientation": "horizontal",
            "style": "IPY_MODEL_78cab13f20744421a78d6d62f205e535",
            "value": 29
          }
        },
        "f3ce89c4ae8840dfb6972ae7d5851dcc": {
          "model_module": "@jupyter-widgets/controls",
          "model_name": "HTMLModel",
          "model_module_version": "1.5.0",
          "state": {
            "_dom_classes": [],
            "_model_module": "@jupyter-widgets/controls",
            "_model_module_version": "1.5.0",
            "_model_name": "HTMLModel",
            "_view_count": null,
            "_view_module": "@jupyter-widgets/controls",
            "_view_module_version": "1.5.0",
            "_view_name": "HTMLView",
            "description": "",
            "description_tooltip": null,
            "layout": "IPY_MODEL_fa0841e11830435398c0af685b5cbd9e",
            "placeholder": "​",
            "style": "IPY_MODEL_b5a67d86506a455b89368cb707b93d83",
            "value": " 29.0/29.0 [00:00&lt;00:00, 469B/s]"
          }
        },
        "5764d0054b8f4276a9aad915314f68f7": {
          "model_module": "@jupyter-widgets/base",
          "model_name": "LayoutModel",
          "model_module_version": "1.2.0",
          "state": {
            "_model_module": "@jupyter-widgets/base",
            "_model_module_version": "1.2.0",
            "_model_name": "LayoutModel",
            "_view_count": null,
            "_view_module": "@jupyter-widgets/base",
            "_view_module_version": "1.2.0",
            "_view_name": "LayoutView",
            "align_content": null,
            "align_items": null,
            "align_self": null,
            "border": null,
            "bottom": null,
            "display": null,
            "flex": null,
            "flex_flow": null,
            "grid_area": null,
            "grid_auto_columns": null,
            "grid_auto_flow": null,
            "grid_auto_rows": null,
            "grid_column": null,
            "grid_gap": null,
            "grid_row": null,
            "grid_template_areas": null,
            "grid_template_columns": null,
            "grid_template_rows": null,
            "height": null,
            "justify_content": null,
            "justify_items": null,
            "left": null,
            "margin": null,
            "max_height": null,
            "max_width": null,
            "min_height": null,
            "min_width": null,
            "object_fit": null,
            "object_position": null,
            "order": null,
            "overflow": null,
            "overflow_x": null,
            "overflow_y": null,
            "padding": null,
            "right": null,
            "top": null,
            "visibility": null,
            "width": null
          }
        },
        "1eb65017ec08480181fb2c29c273dd7f": {
          "model_module": "@jupyter-widgets/base",
          "model_name": "LayoutModel",
          "model_module_version": "1.2.0",
          "state": {
            "_model_module": "@jupyter-widgets/base",
            "_model_module_version": "1.2.0",
            "_model_name": "LayoutModel",
            "_view_count": null,
            "_view_module": "@jupyter-widgets/base",
            "_view_module_version": "1.2.0",
            "_view_name": "LayoutView",
            "align_content": null,
            "align_items": null,
            "align_self": null,
            "border": null,
            "bottom": null,
            "display": null,
            "flex": null,
            "flex_flow": null,
            "grid_area": null,
            "grid_auto_columns": null,
            "grid_auto_flow": null,
            "grid_auto_rows": null,
            "grid_column": null,
            "grid_gap": null,
            "grid_row": null,
            "grid_template_areas": null,
            "grid_template_columns": null,
            "grid_template_rows": null,
            "height": null,
            "justify_content": null,
            "justify_items": null,
            "left": null,
            "margin": null,
            "max_height": null,
            "max_width": null,
            "min_height": null,
            "min_width": null,
            "object_fit": null,
            "object_position": null,
            "order": null,
            "overflow": null,
            "overflow_x": null,
            "overflow_y": null,
            "padding": null,
            "right": null,
            "top": null,
            "visibility": null,
            "width": null
          }
        },
        "9a109ec3c5d4416c843e71ec84860a98": {
          "model_module": "@jupyter-widgets/controls",
          "model_name": "DescriptionStyleModel",
          "model_module_version": "1.5.0",
          "state": {
            "_model_module": "@jupyter-widgets/controls",
            "_model_module_version": "1.5.0",
            "_model_name": "DescriptionStyleModel",
            "_view_count": null,
            "_view_module": "@jupyter-widgets/base",
            "_view_module_version": "1.2.0",
            "_view_name": "StyleView",
            "description_width": ""
          }
        },
        "917c24a14b5c447ab7d3d9a3f3510bb8": {
          "model_module": "@jupyter-widgets/base",
          "model_name": "LayoutModel",
          "model_module_version": "1.2.0",
          "state": {
            "_model_module": "@jupyter-widgets/base",
            "_model_module_version": "1.2.0",
            "_model_name": "LayoutModel",
            "_view_count": null,
            "_view_module": "@jupyter-widgets/base",
            "_view_module_version": "1.2.0",
            "_view_name": "LayoutView",
            "align_content": null,
            "align_items": null,
            "align_self": null,
            "border": null,
            "bottom": null,
            "display": null,
            "flex": null,
            "flex_flow": null,
            "grid_area": null,
            "grid_auto_columns": null,
            "grid_auto_flow": null,
            "grid_auto_rows": null,
            "grid_column": null,
            "grid_gap": null,
            "grid_row": null,
            "grid_template_areas": null,
            "grid_template_columns": null,
            "grid_template_rows": null,
            "height": null,
            "justify_content": null,
            "justify_items": null,
            "left": null,
            "margin": null,
            "max_height": null,
            "max_width": null,
            "min_height": null,
            "min_width": null,
            "object_fit": null,
            "object_position": null,
            "order": null,
            "overflow": null,
            "overflow_x": null,
            "overflow_y": null,
            "padding": null,
            "right": null,
            "top": null,
            "visibility": null,
            "width": null
          }
        },
        "78cab13f20744421a78d6d62f205e535": {
          "model_module": "@jupyter-widgets/controls",
          "model_name": "ProgressStyleModel",
          "model_module_version": "1.5.0",
          "state": {
            "_model_module": "@jupyter-widgets/controls",
            "_model_module_version": "1.5.0",
            "_model_name": "ProgressStyleModel",
            "_view_count": null,
            "_view_module": "@jupyter-widgets/base",
            "_view_module_version": "1.2.0",
            "_view_name": "StyleView",
            "bar_color": null,
            "description_width": ""
          }
        },
        "fa0841e11830435398c0af685b5cbd9e": {
          "model_module": "@jupyter-widgets/base",
          "model_name": "LayoutModel",
          "model_module_version": "1.2.0",
          "state": {
            "_model_module": "@jupyter-widgets/base",
            "_model_module_version": "1.2.0",
            "_model_name": "LayoutModel",
            "_view_count": null,
            "_view_module": "@jupyter-widgets/base",
            "_view_module_version": "1.2.0",
            "_view_name": "LayoutView",
            "align_content": null,
            "align_items": null,
            "align_self": null,
            "border": null,
            "bottom": null,
            "display": null,
            "flex": null,
            "flex_flow": null,
            "grid_area": null,
            "grid_auto_columns": null,
            "grid_auto_flow": null,
            "grid_auto_rows": null,
            "grid_column": null,
            "grid_gap": null,
            "grid_row": null,
            "grid_template_areas": null,
            "grid_template_columns": null,
            "grid_template_rows": null,
            "height": null,
            "justify_content": null,
            "justify_items": null,
            "left": null,
            "margin": null,
            "max_height": null,
            "max_width": null,
            "min_height": null,
            "min_width": null,
            "object_fit": null,
            "object_position": null,
            "order": null,
            "overflow": null,
            "overflow_x": null,
            "overflow_y": null,
            "padding": null,
            "right": null,
            "top": null,
            "visibility": null,
            "width": null
          }
        },
        "b5a67d86506a455b89368cb707b93d83": {
          "model_module": "@jupyter-widgets/controls",
          "model_name": "DescriptionStyleModel",
          "model_module_version": "1.5.0",
          "state": {
            "_model_module": "@jupyter-widgets/controls",
            "_model_module_version": "1.5.0",
            "_model_name": "DescriptionStyleModel",
            "_view_count": null,
            "_view_module": "@jupyter-widgets/base",
            "_view_module_version": "1.2.0",
            "_view_name": "StyleView",
            "description_width": ""
          }
        },
        "fd65752d0459427aa431ae526a4d8da4": {
          "model_module": "@jupyter-widgets/controls",
          "model_name": "HBoxModel",
          "model_module_version": "1.5.0",
          "state": {
            "_dom_classes": [],
            "_model_module": "@jupyter-widgets/controls",
            "_model_module_version": "1.5.0",
            "_model_name": "HBoxModel",
            "_view_count": null,
            "_view_module": "@jupyter-widgets/controls",
            "_view_module_version": "1.5.0",
            "_view_name": "HBoxView",
            "box_style": "",
            "children": [
              "IPY_MODEL_f14cd2c51a484a61b158d97c11b89cf6",
              "IPY_MODEL_5fbcbe00af6d4429808557e47f0ba343",
              "IPY_MODEL_75fbf3ef0923468da4c4fcb4adaab06f"
            ],
            "layout": "IPY_MODEL_3cdf6d343a644319a436c1820cf880e3"
          }
        },
        "f14cd2c51a484a61b158d97c11b89cf6": {
          "model_module": "@jupyter-widgets/controls",
          "model_name": "HTMLModel",
          "model_module_version": "1.5.0",
          "state": {
            "_dom_classes": [],
            "_model_module": "@jupyter-widgets/controls",
            "_model_module_version": "1.5.0",
            "_model_name": "HTMLModel",
            "_view_count": null,
            "_view_module": "@jupyter-widgets/controls",
            "_view_module_version": "1.5.0",
            "_view_name": "HTMLView",
            "description": "",
            "description_tooltip": null,
            "layout": "IPY_MODEL_4e148ed54d334ae3be7fb4869675e3e9",
            "placeholder": "​",
            "style": "IPY_MODEL_ee816f6afad44eb49aad088190ea7738",
            "value": "config.json: 100%"
          }
        },
        "5fbcbe00af6d4429808557e47f0ba343": {
          "model_module": "@jupyter-widgets/controls",
          "model_name": "FloatProgressModel",
          "model_module_version": "1.5.0",
          "state": {
            "_dom_classes": [],
            "_model_module": "@jupyter-widgets/controls",
            "_model_module_version": "1.5.0",
            "_model_name": "FloatProgressModel",
            "_view_count": null,
            "_view_module": "@jupyter-widgets/controls",
            "_view_module_version": "1.5.0",
            "_view_name": "ProgressView",
            "bar_style": "success",
            "description": "",
            "description_tooltip": null,
            "layout": "IPY_MODEL_51dbcd4ab9644381ab38c02bdf562ba4",
            "max": 570,
            "min": 0,
            "orientation": "horizontal",
            "style": "IPY_MODEL_d9b00ddfdc9342bb8aea042868ee27c6",
            "value": 570
          }
        },
        "75fbf3ef0923468da4c4fcb4adaab06f": {
          "model_module": "@jupyter-widgets/controls",
          "model_name": "HTMLModel",
          "model_module_version": "1.5.0",
          "state": {
            "_dom_classes": [],
            "_model_module": "@jupyter-widgets/controls",
            "_model_module_version": "1.5.0",
            "_model_name": "HTMLModel",
            "_view_count": null,
            "_view_module": "@jupyter-widgets/controls",
            "_view_module_version": "1.5.0",
            "_view_name": "HTMLView",
            "description": "",
            "description_tooltip": null,
            "layout": "IPY_MODEL_c12d9204de384510bab1011553fe485c",
            "placeholder": "​",
            "style": "IPY_MODEL_b1dbf1b5d20f454fa751737a7fd225c8",
            "value": " 570/570 [00:00&lt;00:00, 8.64kB/s]"
          }
        },
        "3cdf6d343a644319a436c1820cf880e3": {
          "model_module": "@jupyter-widgets/base",
          "model_name": "LayoutModel",
          "model_module_version": "1.2.0",
          "state": {
            "_model_module": "@jupyter-widgets/base",
            "_model_module_version": "1.2.0",
            "_model_name": "LayoutModel",
            "_view_count": null,
            "_view_module": "@jupyter-widgets/base",
            "_view_module_version": "1.2.0",
            "_view_name": "LayoutView",
            "align_content": null,
            "align_items": null,
            "align_self": null,
            "border": null,
            "bottom": null,
            "display": null,
            "flex": null,
            "flex_flow": null,
            "grid_area": null,
            "grid_auto_columns": null,
            "grid_auto_flow": null,
            "grid_auto_rows": null,
            "grid_column": null,
            "grid_gap": null,
            "grid_row": null,
            "grid_template_areas": null,
            "grid_template_columns": null,
            "grid_template_rows": null,
            "height": null,
            "justify_content": null,
            "justify_items": null,
            "left": null,
            "margin": null,
            "max_height": null,
            "max_width": null,
            "min_height": null,
            "min_width": null,
            "object_fit": null,
            "object_position": null,
            "order": null,
            "overflow": null,
            "overflow_x": null,
            "overflow_y": null,
            "padding": null,
            "right": null,
            "top": null,
            "visibility": null,
            "width": null
          }
        },
        "4e148ed54d334ae3be7fb4869675e3e9": {
          "model_module": "@jupyter-widgets/base",
          "model_name": "LayoutModel",
          "model_module_version": "1.2.0",
          "state": {
            "_model_module": "@jupyter-widgets/base",
            "_model_module_version": "1.2.0",
            "_model_name": "LayoutModel",
            "_view_count": null,
            "_view_module": "@jupyter-widgets/base",
            "_view_module_version": "1.2.0",
            "_view_name": "LayoutView",
            "align_content": null,
            "align_items": null,
            "align_self": null,
            "border": null,
            "bottom": null,
            "display": null,
            "flex": null,
            "flex_flow": null,
            "grid_area": null,
            "grid_auto_columns": null,
            "grid_auto_flow": null,
            "grid_auto_rows": null,
            "grid_column": null,
            "grid_gap": null,
            "grid_row": null,
            "grid_template_areas": null,
            "grid_template_columns": null,
            "grid_template_rows": null,
            "height": null,
            "justify_content": null,
            "justify_items": null,
            "left": null,
            "margin": null,
            "max_height": null,
            "max_width": null,
            "min_height": null,
            "min_width": null,
            "object_fit": null,
            "object_position": null,
            "order": null,
            "overflow": null,
            "overflow_x": null,
            "overflow_y": null,
            "padding": null,
            "right": null,
            "top": null,
            "visibility": null,
            "width": null
          }
        },
        "ee816f6afad44eb49aad088190ea7738": {
          "model_module": "@jupyter-widgets/controls",
          "model_name": "DescriptionStyleModel",
          "model_module_version": "1.5.0",
          "state": {
            "_model_module": "@jupyter-widgets/controls",
            "_model_module_version": "1.5.0",
            "_model_name": "DescriptionStyleModel",
            "_view_count": null,
            "_view_module": "@jupyter-widgets/base",
            "_view_module_version": "1.2.0",
            "_view_name": "StyleView",
            "description_width": ""
          }
        },
        "51dbcd4ab9644381ab38c02bdf562ba4": {
          "model_module": "@jupyter-widgets/base",
          "model_name": "LayoutModel",
          "model_module_version": "1.2.0",
          "state": {
            "_model_module": "@jupyter-widgets/base",
            "_model_module_version": "1.2.0",
            "_model_name": "LayoutModel",
            "_view_count": null,
            "_view_module": "@jupyter-widgets/base",
            "_view_module_version": "1.2.0",
            "_view_name": "LayoutView",
            "align_content": null,
            "align_items": null,
            "align_self": null,
            "border": null,
            "bottom": null,
            "display": null,
            "flex": null,
            "flex_flow": null,
            "grid_area": null,
            "grid_auto_columns": null,
            "grid_auto_flow": null,
            "grid_auto_rows": null,
            "grid_column": null,
            "grid_gap": null,
            "grid_row": null,
            "grid_template_areas": null,
            "grid_template_columns": null,
            "grid_template_rows": null,
            "height": null,
            "justify_content": null,
            "justify_items": null,
            "left": null,
            "margin": null,
            "max_height": null,
            "max_width": null,
            "min_height": null,
            "min_width": null,
            "object_fit": null,
            "object_position": null,
            "order": null,
            "overflow": null,
            "overflow_x": null,
            "overflow_y": null,
            "padding": null,
            "right": null,
            "top": null,
            "visibility": null,
            "width": null
          }
        },
        "d9b00ddfdc9342bb8aea042868ee27c6": {
          "model_module": "@jupyter-widgets/controls",
          "model_name": "ProgressStyleModel",
          "model_module_version": "1.5.0",
          "state": {
            "_model_module": "@jupyter-widgets/controls",
            "_model_module_version": "1.5.0",
            "_model_name": "ProgressStyleModel",
            "_view_count": null,
            "_view_module": "@jupyter-widgets/base",
            "_view_module_version": "1.2.0",
            "_view_name": "StyleView",
            "bar_color": null,
            "description_width": ""
          }
        },
        "c12d9204de384510bab1011553fe485c": {
          "model_module": "@jupyter-widgets/base",
          "model_name": "LayoutModel",
          "model_module_version": "1.2.0",
          "state": {
            "_model_module": "@jupyter-widgets/base",
            "_model_module_version": "1.2.0",
            "_model_name": "LayoutModel",
            "_view_count": null,
            "_view_module": "@jupyter-widgets/base",
            "_view_module_version": "1.2.0",
            "_view_name": "LayoutView",
            "align_content": null,
            "align_items": null,
            "align_self": null,
            "border": null,
            "bottom": null,
            "display": null,
            "flex": null,
            "flex_flow": null,
            "grid_area": null,
            "grid_auto_columns": null,
            "grid_auto_flow": null,
            "grid_auto_rows": null,
            "grid_column": null,
            "grid_gap": null,
            "grid_row": null,
            "grid_template_areas": null,
            "grid_template_columns": null,
            "grid_template_rows": null,
            "height": null,
            "justify_content": null,
            "justify_items": null,
            "left": null,
            "margin": null,
            "max_height": null,
            "max_width": null,
            "min_height": null,
            "min_width": null,
            "object_fit": null,
            "object_position": null,
            "order": null,
            "overflow": null,
            "overflow_x": null,
            "overflow_y": null,
            "padding": null,
            "right": null,
            "top": null,
            "visibility": null,
            "width": null
          }
        },
        "b1dbf1b5d20f454fa751737a7fd225c8": {
          "model_module": "@jupyter-widgets/controls",
          "model_name": "DescriptionStyleModel",
          "model_module_version": "1.5.0",
          "state": {
            "_model_module": "@jupyter-widgets/controls",
            "_model_module_version": "1.5.0",
            "_model_name": "DescriptionStyleModel",
            "_view_count": null,
            "_view_module": "@jupyter-widgets/base",
            "_view_module_version": "1.2.0",
            "_view_name": "StyleView",
            "description_width": ""
          }
        },
        "21b9efb2f3684fffb229da51f30be2ff": {
          "model_module": "@jupyter-widgets/controls",
          "model_name": "HBoxModel",
          "model_module_version": "1.5.0",
          "state": {
            "_dom_classes": [],
            "_model_module": "@jupyter-widgets/controls",
            "_model_module_version": "1.5.0",
            "_model_name": "HBoxModel",
            "_view_count": null,
            "_view_module": "@jupyter-widgets/controls",
            "_view_module_version": "1.5.0",
            "_view_name": "HBoxView",
            "box_style": "",
            "children": [
              "IPY_MODEL_f67d955212014a778b3a756fb2ae63cc",
              "IPY_MODEL_80be8f5ee752437fa1604cd1aac9c21e",
              "IPY_MODEL_06666b8208b743e48515e27fad047165"
            ],
            "layout": "IPY_MODEL_f2fdfd33ef80494fbf396a053aa0b4e5"
          }
        },
        "f67d955212014a778b3a756fb2ae63cc": {
          "model_module": "@jupyter-widgets/controls",
          "model_name": "HTMLModel",
          "model_module_version": "1.5.0",
          "state": {
            "_dom_classes": [],
            "_model_module": "@jupyter-widgets/controls",
            "_model_module_version": "1.5.0",
            "_model_name": "HTMLModel",
            "_view_count": null,
            "_view_module": "@jupyter-widgets/controls",
            "_view_module_version": "1.5.0",
            "_view_name": "HTMLView",
            "description": "",
            "description_tooltip": null,
            "layout": "IPY_MODEL_71a2d38f3d9e498db34af7fe46ca3851",
            "placeholder": "​",
            "style": "IPY_MODEL_ea60ce082a1d4f1fb1e36b76904a24c8",
            "value": "vocab.txt: 100%"
          }
        },
        "80be8f5ee752437fa1604cd1aac9c21e": {
          "model_module": "@jupyter-widgets/controls",
          "model_name": "FloatProgressModel",
          "model_module_version": "1.5.0",
          "state": {
            "_dom_classes": [],
            "_model_module": "@jupyter-widgets/controls",
            "_model_module_version": "1.5.0",
            "_model_name": "FloatProgressModel",
            "_view_count": null,
            "_view_module": "@jupyter-widgets/controls",
            "_view_module_version": "1.5.0",
            "_view_name": "ProgressView",
            "bar_style": "success",
            "description": "",
            "description_tooltip": null,
            "layout": "IPY_MODEL_d9a8aa2048144a59b3fd16bde9c9f7ea",
            "max": 213450,
            "min": 0,
            "orientation": "horizontal",
            "style": "IPY_MODEL_f54719b9f353424082b340a1e0b32869",
            "value": 213450
          }
        },
        "06666b8208b743e48515e27fad047165": {
          "model_module": "@jupyter-widgets/controls",
          "model_name": "HTMLModel",
          "model_module_version": "1.5.0",
          "state": {
            "_dom_classes": [],
            "_model_module": "@jupyter-widgets/controls",
            "_model_module_version": "1.5.0",
            "_model_name": "HTMLModel",
            "_view_count": null,
            "_view_module": "@jupyter-widgets/controls",
            "_view_module_version": "1.5.0",
            "_view_name": "HTMLView",
            "description": "",
            "description_tooltip": null,
            "layout": "IPY_MODEL_4d974d6b8f1a4bb98f47a8dc30f8a1b5",
            "placeholder": "​",
            "style": "IPY_MODEL_47d6c89dbac7486eadec938b7eae592c",
            "value": " 213k/213k [00:00&lt;00:00, 2.95MB/s]"
          }
        },
        "f2fdfd33ef80494fbf396a053aa0b4e5": {
          "model_module": "@jupyter-widgets/base",
          "model_name": "LayoutModel",
          "model_module_version": "1.2.0",
          "state": {
            "_model_module": "@jupyter-widgets/base",
            "_model_module_version": "1.2.0",
            "_model_name": "LayoutModel",
            "_view_count": null,
            "_view_module": "@jupyter-widgets/base",
            "_view_module_version": "1.2.0",
            "_view_name": "LayoutView",
            "align_content": null,
            "align_items": null,
            "align_self": null,
            "border": null,
            "bottom": null,
            "display": null,
            "flex": null,
            "flex_flow": null,
            "grid_area": null,
            "grid_auto_columns": null,
            "grid_auto_flow": null,
            "grid_auto_rows": null,
            "grid_column": null,
            "grid_gap": null,
            "grid_row": null,
            "grid_template_areas": null,
            "grid_template_columns": null,
            "grid_template_rows": null,
            "height": null,
            "justify_content": null,
            "justify_items": null,
            "left": null,
            "margin": null,
            "max_height": null,
            "max_width": null,
            "min_height": null,
            "min_width": null,
            "object_fit": null,
            "object_position": null,
            "order": null,
            "overflow": null,
            "overflow_x": null,
            "overflow_y": null,
            "padding": null,
            "right": null,
            "top": null,
            "visibility": null,
            "width": null
          }
        },
        "71a2d38f3d9e498db34af7fe46ca3851": {
          "model_module": "@jupyter-widgets/base",
          "model_name": "LayoutModel",
          "model_module_version": "1.2.0",
          "state": {
            "_model_module": "@jupyter-widgets/base",
            "_model_module_version": "1.2.0",
            "_model_name": "LayoutModel",
            "_view_count": null,
            "_view_module": "@jupyter-widgets/base",
            "_view_module_version": "1.2.0",
            "_view_name": "LayoutView",
            "align_content": null,
            "align_items": null,
            "align_self": null,
            "border": null,
            "bottom": null,
            "display": null,
            "flex": null,
            "flex_flow": null,
            "grid_area": null,
            "grid_auto_columns": null,
            "grid_auto_flow": null,
            "grid_auto_rows": null,
            "grid_column": null,
            "grid_gap": null,
            "grid_row": null,
            "grid_template_areas": null,
            "grid_template_columns": null,
            "grid_template_rows": null,
            "height": null,
            "justify_content": null,
            "justify_items": null,
            "left": null,
            "margin": null,
            "max_height": null,
            "max_width": null,
            "min_height": null,
            "min_width": null,
            "object_fit": null,
            "object_position": null,
            "order": null,
            "overflow": null,
            "overflow_x": null,
            "overflow_y": null,
            "padding": null,
            "right": null,
            "top": null,
            "visibility": null,
            "width": null
          }
        },
        "ea60ce082a1d4f1fb1e36b76904a24c8": {
          "model_module": "@jupyter-widgets/controls",
          "model_name": "DescriptionStyleModel",
          "model_module_version": "1.5.0",
          "state": {
            "_model_module": "@jupyter-widgets/controls",
            "_model_module_version": "1.5.0",
            "_model_name": "DescriptionStyleModel",
            "_view_count": null,
            "_view_module": "@jupyter-widgets/base",
            "_view_module_version": "1.2.0",
            "_view_name": "StyleView",
            "description_width": ""
          }
        },
        "d9a8aa2048144a59b3fd16bde9c9f7ea": {
          "model_module": "@jupyter-widgets/base",
          "model_name": "LayoutModel",
          "model_module_version": "1.2.0",
          "state": {
            "_model_module": "@jupyter-widgets/base",
            "_model_module_version": "1.2.0",
            "_model_name": "LayoutModel",
            "_view_count": null,
            "_view_module": "@jupyter-widgets/base",
            "_view_module_version": "1.2.0",
            "_view_name": "LayoutView",
            "align_content": null,
            "align_items": null,
            "align_self": null,
            "border": null,
            "bottom": null,
            "display": null,
            "flex": null,
            "flex_flow": null,
            "grid_area": null,
            "grid_auto_columns": null,
            "grid_auto_flow": null,
            "grid_auto_rows": null,
            "grid_column": null,
            "grid_gap": null,
            "grid_row": null,
            "grid_template_areas": null,
            "grid_template_columns": null,
            "grid_template_rows": null,
            "height": null,
            "justify_content": null,
            "justify_items": null,
            "left": null,
            "margin": null,
            "max_height": null,
            "max_width": null,
            "min_height": null,
            "min_width": null,
            "object_fit": null,
            "object_position": null,
            "order": null,
            "overflow": null,
            "overflow_x": null,
            "overflow_y": null,
            "padding": null,
            "right": null,
            "top": null,
            "visibility": null,
            "width": null
          }
        },
        "f54719b9f353424082b340a1e0b32869": {
          "model_module": "@jupyter-widgets/controls",
          "model_name": "ProgressStyleModel",
          "model_module_version": "1.5.0",
          "state": {
            "_model_module": "@jupyter-widgets/controls",
            "_model_module_version": "1.5.0",
            "_model_name": "ProgressStyleModel",
            "_view_count": null,
            "_view_module": "@jupyter-widgets/base",
            "_view_module_version": "1.2.0",
            "_view_name": "StyleView",
            "bar_color": null,
            "description_width": ""
          }
        },
        "4d974d6b8f1a4bb98f47a8dc30f8a1b5": {
          "model_module": "@jupyter-widgets/base",
          "model_name": "LayoutModel",
          "model_module_version": "1.2.0",
          "state": {
            "_model_module": "@jupyter-widgets/base",
            "_model_module_version": "1.2.0",
            "_model_name": "LayoutModel",
            "_view_count": null,
            "_view_module": "@jupyter-widgets/base",
            "_view_module_version": "1.2.0",
            "_view_name": "LayoutView",
            "align_content": null,
            "align_items": null,
            "align_self": null,
            "border": null,
            "bottom": null,
            "display": null,
            "flex": null,
            "flex_flow": null,
            "grid_area": null,
            "grid_auto_columns": null,
            "grid_auto_flow": null,
            "grid_auto_rows": null,
            "grid_column": null,
            "grid_gap": null,
            "grid_row": null,
            "grid_template_areas": null,
            "grid_template_columns": null,
            "grid_template_rows": null,
            "height": null,
            "justify_content": null,
            "justify_items": null,
            "left": null,
            "margin": null,
            "max_height": null,
            "max_width": null,
            "min_height": null,
            "min_width": null,
            "object_fit": null,
            "object_position": null,
            "order": null,
            "overflow": null,
            "overflow_x": null,
            "overflow_y": null,
            "padding": null,
            "right": null,
            "top": null,
            "visibility": null,
            "width": null
          }
        },
        "47d6c89dbac7486eadec938b7eae592c": {
          "model_module": "@jupyter-widgets/controls",
          "model_name": "DescriptionStyleModel",
          "model_module_version": "1.5.0",
          "state": {
            "_model_module": "@jupyter-widgets/controls",
            "_model_module_version": "1.5.0",
            "_model_name": "DescriptionStyleModel",
            "_view_count": null,
            "_view_module": "@jupyter-widgets/base",
            "_view_module_version": "1.2.0",
            "_view_name": "StyleView",
            "description_width": ""
          }
        },
        "55ed69ac06d3403caa67d6a887a3f528": {
          "model_module": "@jupyter-widgets/controls",
          "model_name": "HBoxModel",
          "model_module_version": "1.5.0",
          "state": {
            "_dom_classes": [],
            "_model_module": "@jupyter-widgets/controls",
            "_model_module_version": "1.5.0",
            "_model_name": "HBoxModel",
            "_view_count": null,
            "_view_module": "@jupyter-widgets/controls",
            "_view_module_version": "1.5.0",
            "_view_name": "HBoxView",
            "box_style": "",
            "children": [
              "IPY_MODEL_24679a932db94caebf1495bea1adc931",
              "IPY_MODEL_dea22e56bd64444c9e23c74eecdac648",
              "IPY_MODEL_7d28fffe7a46416b92a6685ac7f79a28"
            ],
            "layout": "IPY_MODEL_9ed6966341544e21bd2a01e8e44fda7a"
          }
        },
        "24679a932db94caebf1495bea1adc931": {
          "model_module": "@jupyter-widgets/controls",
          "model_name": "HTMLModel",
          "model_module_version": "1.5.0",
          "state": {
            "_dom_classes": [],
            "_model_module": "@jupyter-widgets/controls",
            "_model_module_version": "1.5.0",
            "_model_name": "HTMLModel",
            "_view_count": null,
            "_view_module": "@jupyter-widgets/controls",
            "_view_module_version": "1.5.0",
            "_view_name": "HTMLView",
            "description": "",
            "description_tooltip": null,
            "layout": "IPY_MODEL_e31ea1e7ce294719a6b278179fd06598",
            "placeholder": "​",
            "style": "IPY_MODEL_24821e4b26db405381b41d60a206db55",
            "value": "tokenizer.json: 100%"
          }
        },
        "dea22e56bd64444c9e23c74eecdac648": {
          "model_module": "@jupyter-widgets/controls",
          "model_name": "FloatProgressModel",
          "model_module_version": "1.5.0",
          "state": {
            "_dom_classes": [],
            "_model_module": "@jupyter-widgets/controls",
            "_model_module_version": "1.5.0",
            "_model_name": "FloatProgressModel",
            "_view_count": null,
            "_view_module": "@jupyter-widgets/controls",
            "_view_module_version": "1.5.0",
            "_view_name": "ProgressView",
            "bar_style": "success",
            "description": "",
            "description_tooltip": null,
            "layout": "IPY_MODEL_a68af8c5279e40e6a7247c6d0145ad27",
            "max": 435797,
            "min": 0,
            "orientation": "horizontal",
            "style": "IPY_MODEL_d08daf25231b40c6b37fa7e67c60cd89",
            "value": 435797
          }
        },
        "7d28fffe7a46416b92a6685ac7f79a28": {
          "model_module": "@jupyter-widgets/controls",
          "model_name": "HTMLModel",
          "model_module_version": "1.5.0",
          "state": {
            "_dom_classes": [],
            "_model_module": "@jupyter-widgets/controls",
            "_model_module_version": "1.5.0",
            "_model_name": "HTMLModel",
            "_view_count": null,
            "_view_module": "@jupyter-widgets/controls",
            "_view_module_version": "1.5.0",
            "_view_name": "HTMLView",
            "description": "",
            "description_tooltip": null,
            "layout": "IPY_MODEL_01889ac7adde4a5bac3c81d90e95254d",
            "placeholder": "​",
            "style": "IPY_MODEL_0578b5d57b3a47fc806ba1a82b6fba8f",
            "value": " 436k/436k [00:00&lt;00:00, 11.7MB/s]"
          }
        },
        "9ed6966341544e21bd2a01e8e44fda7a": {
          "model_module": "@jupyter-widgets/base",
          "model_name": "LayoutModel",
          "model_module_version": "1.2.0",
          "state": {
            "_model_module": "@jupyter-widgets/base",
            "_model_module_version": "1.2.0",
            "_model_name": "LayoutModel",
            "_view_count": null,
            "_view_module": "@jupyter-widgets/base",
            "_view_module_version": "1.2.0",
            "_view_name": "LayoutView",
            "align_content": null,
            "align_items": null,
            "align_self": null,
            "border": null,
            "bottom": null,
            "display": null,
            "flex": null,
            "flex_flow": null,
            "grid_area": null,
            "grid_auto_columns": null,
            "grid_auto_flow": null,
            "grid_auto_rows": null,
            "grid_column": null,
            "grid_gap": null,
            "grid_row": null,
            "grid_template_areas": null,
            "grid_template_columns": null,
            "grid_template_rows": null,
            "height": null,
            "justify_content": null,
            "justify_items": null,
            "left": null,
            "margin": null,
            "max_height": null,
            "max_width": null,
            "min_height": null,
            "min_width": null,
            "object_fit": null,
            "object_position": null,
            "order": null,
            "overflow": null,
            "overflow_x": null,
            "overflow_y": null,
            "padding": null,
            "right": null,
            "top": null,
            "visibility": null,
            "width": null
          }
        },
        "e31ea1e7ce294719a6b278179fd06598": {
          "model_module": "@jupyter-widgets/base",
          "model_name": "LayoutModel",
          "model_module_version": "1.2.0",
          "state": {
            "_model_module": "@jupyter-widgets/base",
            "_model_module_version": "1.2.0",
            "_model_name": "LayoutModel",
            "_view_count": null,
            "_view_module": "@jupyter-widgets/base",
            "_view_module_version": "1.2.0",
            "_view_name": "LayoutView",
            "align_content": null,
            "align_items": null,
            "align_self": null,
            "border": null,
            "bottom": null,
            "display": null,
            "flex": null,
            "flex_flow": null,
            "grid_area": null,
            "grid_auto_columns": null,
            "grid_auto_flow": null,
            "grid_auto_rows": null,
            "grid_column": null,
            "grid_gap": null,
            "grid_row": null,
            "grid_template_areas": null,
            "grid_template_columns": null,
            "grid_template_rows": null,
            "height": null,
            "justify_content": null,
            "justify_items": null,
            "left": null,
            "margin": null,
            "max_height": null,
            "max_width": null,
            "min_height": null,
            "min_width": null,
            "object_fit": null,
            "object_position": null,
            "order": null,
            "overflow": null,
            "overflow_x": null,
            "overflow_y": null,
            "padding": null,
            "right": null,
            "top": null,
            "visibility": null,
            "width": null
          }
        },
        "24821e4b26db405381b41d60a206db55": {
          "model_module": "@jupyter-widgets/controls",
          "model_name": "DescriptionStyleModel",
          "model_module_version": "1.5.0",
          "state": {
            "_model_module": "@jupyter-widgets/controls",
            "_model_module_version": "1.5.0",
            "_model_name": "DescriptionStyleModel",
            "_view_count": null,
            "_view_module": "@jupyter-widgets/base",
            "_view_module_version": "1.2.0",
            "_view_name": "StyleView",
            "description_width": ""
          }
        },
        "a68af8c5279e40e6a7247c6d0145ad27": {
          "model_module": "@jupyter-widgets/base",
          "model_name": "LayoutModel",
          "model_module_version": "1.2.0",
          "state": {
            "_model_module": "@jupyter-widgets/base",
            "_model_module_version": "1.2.0",
            "_model_name": "LayoutModel",
            "_view_count": null,
            "_view_module": "@jupyter-widgets/base",
            "_view_module_version": "1.2.0",
            "_view_name": "LayoutView",
            "align_content": null,
            "align_items": null,
            "align_self": null,
            "border": null,
            "bottom": null,
            "display": null,
            "flex": null,
            "flex_flow": null,
            "grid_area": null,
            "grid_auto_columns": null,
            "grid_auto_flow": null,
            "grid_auto_rows": null,
            "grid_column": null,
            "grid_gap": null,
            "grid_row": null,
            "grid_template_areas": null,
            "grid_template_columns": null,
            "grid_template_rows": null,
            "height": null,
            "justify_content": null,
            "justify_items": null,
            "left": null,
            "margin": null,
            "max_height": null,
            "max_width": null,
            "min_height": null,
            "min_width": null,
            "object_fit": null,
            "object_position": null,
            "order": null,
            "overflow": null,
            "overflow_x": null,
            "overflow_y": null,
            "padding": null,
            "right": null,
            "top": null,
            "visibility": null,
            "width": null
          }
        },
        "d08daf25231b40c6b37fa7e67c60cd89": {
          "model_module": "@jupyter-widgets/controls",
          "model_name": "ProgressStyleModel",
          "model_module_version": "1.5.0",
          "state": {
            "_model_module": "@jupyter-widgets/controls",
            "_model_module_version": "1.5.0",
            "_model_name": "ProgressStyleModel",
            "_view_count": null,
            "_view_module": "@jupyter-widgets/base",
            "_view_module_version": "1.2.0",
            "_view_name": "StyleView",
            "bar_color": null,
            "description_width": ""
          }
        },
        "01889ac7adde4a5bac3c81d90e95254d": {
          "model_module": "@jupyter-widgets/base",
          "model_name": "LayoutModel",
          "model_module_version": "1.2.0",
          "state": {
            "_model_module": "@jupyter-widgets/base",
            "_model_module_version": "1.2.0",
            "_model_name": "LayoutModel",
            "_view_count": null,
            "_view_module": "@jupyter-widgets/base",
            "_view_module_version": "1.2.0",
            "_view_name": "LayoutView",
            "align_content": null,
            "align_items": null,
            "align_self": null,
            "border": null,
            "bottom": null,
            "display": null,
            "flex": null,
            "flex_flow": null,
            "grid_area": null,
            "grid_auto_columns": null,
            "grid_auto_flow": null,
            "grid_auto_rows": null,
            "grid_column": null,
            "grid_gap": null,
            "grid_row": null,
            "grid_template_areas": null,
            "grid_template_columns": null,
            "grid_template_rows": null,
            "height": null,
            "justify_content": null,
            "justify_items": null,
            "left": null,
            "margin": null,
            "max_height": null,
            "max_width": null,
            "min_height": null,
            "min_width": null,
            "object_fit": null,
            "object_position": null,
            "order": null,
            "overflow": null,
            "overflow_x": null,
            "overflow_y": null,
            "padding": null,
            "right": null,
            "top": null,
            "visibility": null,
            "width": null
          }
        },
        "0578b5d57b3a47fc806ba1a82b6fba8f": {
          "model_module": "@jupyter-widgets/controls",
          "model_name": "DescriptionStyleModel",
          "model_module_version": "1.5.0",
          "state": {
            "_model_module": "@jupyter-widgets/controls",
            "_model_module_version": "1.5.0",
            "_model_name": "DescriptionStyleModel",
            "_view_count": null,
            "_view_module": "@jupyter-widgets/base",
            "_view_module_version": "1.2.0",
            "_view_name": "StyleView",
            "description_width": ""
          }
        }
      }
    }
  },
  "nbformat": 4,
  "nbformat_minor": 5
}